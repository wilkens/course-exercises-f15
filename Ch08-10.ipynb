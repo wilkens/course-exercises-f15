{
 "cells": [
  {
   "cell_type": "markdown",
   "metadata": {},
   "source": [
    "# Finger exercises in Guttag\n",
    "## Chapters 8-10\n",
    "### Section 10.1 (p. 130)\n",
    "\n",
    "**Q:** Why do we use '`mid+1`' rather than '`mid`' in the second recursive call?\n",
    "\n",
    "**A:** Without the '+1', the recursion would never reach the last position in the list. That's because\n",
    "\n",
    "    mid = (low+high)//2\n",
    "\n",
    "Note the *integer* division. If `mid` = 1 and `high` = 2, the new value of `mid` = (1+2)//2 = 3//2 = 1. Hence we would call `bSearch` over and over with the same values of '`mid`' and '`high`', never reaching the `if high == low` exit condition.\n",
    "\n",
    "Full code, adapted from Guttag, and a set of test cases below."
   ]
  },
  {
   "cell_type": "code",
   "execution_count": 7,
   "metadata": {
    "collapsed": false
   },
   "outputs": [
    {
     "name": "stdout",
     "output_type": "stream",
     "text": [
      "List\t\tValue\tResult\n",
      "----\t\t-----\t------\n",
      "[1, 2, 3]\t1\tTrue\n",
      "[1, 2, 3]\t2\tTrue\n",
      "[1, 2, 3]\t3\tTrue\n",
      "[1, 10, 100]\t1\tTrue\n",
      "[1, 10, 100]\t2\tFalse\n",
      "[1, 10, 100]\t3\tFalse\n",
      "\n",
      "List\t\tValue\tResult\n",
      "----\t\t-----\t------\n",
      "['a', 'b', 'c']\ta\tTrue\n",
      "['a', 'b', 'c']\tf\tFalse\n",
      "['d', 'e', 'f']\ta\tFalse\n",
      "['d', 'e', 'f']\tf\tTrue\n"
     ]
    }
   ],
   "source": [
    "def search(L, e):\n",
    "    \"\"\"L is a list with elements in ascending order.\n",
    "        Returns True if e is in L, else False\"\"\"\n",
    "\n",
    "    def bSearch(L, e, low, high):\n",
    "        \"\"\"Recursive binary search for e in L between low and high\"\"\"\n",
    "        # Decrements high - low\n",
    "        if high == low:\n",
    "            return L[low] == e # Exhausted search; is last element == e?\n",
    "        mid = (low + high) // 2 # NB. '//' is integer division\n",
    "        if L[mid] == e: # Hey, we found e in L!\n",
    "            return True\n",
    "        elif L[mid] > e: # We're above e in L (remeber, L is ordered)\n",
    "            if low == mid: # We've searched everything and not found e\n",
    "                return False\n",
    "            else:\n",
    "                return bSearch(L, e, low, mid-1) # bisect remaining low side\n",
    "        else: # We're below e in L\n",
    "            return bSearch(L, e, mid+1, high) # bisect remaining high side\n",
    "\n",
    "    if len(L) == 0: # List is empty, so e can't be in it!\n",
    "        return False\n",
    "    else:\n",
    "        return bSearch(L, e, 0, len(L)-1) # Call bSearch over full list\n",
    "\n",
    "def testSearch(lists, values):\n",
    "    \"\"\"Test the search(L, e) function\"\"\"\n",
    "    print(\"List\\t\\tValue\\tResult\")\n",
    "    print(\"----\\t\\t-----\\t------\")\n",
    "    for i in lists:\n",
    "        for j in values:\n",
    "            result = search(i, j)\n",
    "            print(str(i) + \"\\t\" + str(j) + \"\\t\" + str(result))\n",
    "\n",
    "# Define some inputs and run the test cases\n",
    "list1 = [1,2,3]\n",
    "list2 = [1,10,100]\n",
    "testLists  = [list1, list2]\n",
    "testValues = [1,2,3]\n",
    "testSearch(testLists, testValues)\n",
    "\n",
    "print()\n",
    "list3 = ['a','b','c']\n",
    "list4 = ['d', 'e', 'f']\n",
    "testLists2 = [list3, list4]\n",
    "testValues2 = ['a', 'f']\n",
    "testSearch(testLists2, testValues2)"
   ]
  },
  {
   "cell_type": "code",
   "execution_count": null,
   "metadata": {
    "collapsed": true
   },
   "outputs": [],
   "source": []
  }
 ],
 "metadata": {
  "kernelspec": {
   "display_name": "Python 3",
   "language": "python",
   "name": "python3"
  },
  "language_info": {
   "codemirror_mode": {
    "name": "ipython",
    "version": 3
   },
   "file_extension": ".py",
   "mimetype": "text/x-python",
   "name": "python",
   "nbconvert_exporter": "python",
   "pygments_lexer": "ipython3",
   "version": "3.4.3"
  }
 },
 "nbformat": 4,
 "nbformat_minor": 0
}
