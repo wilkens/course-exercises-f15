{
 "cells": [
  {
   "cell_type": "markdown",
   "metadata": {},
   "source": [
    "# Finger exercises in Guttag\n",
    "## Chapters 5-7\n",
    "### Section 7.1 (p. 85): Handling exceptions\n",
    "\n",
    "Write a function `sumDigits` that returns the sum of the individual digits within an arbitrary string.\n",
    "\n",
    "Example: `sumDigits('a2b3c')` returns 5"
   ]
  },
  {
   "cell_type": "code",
   "execution_count": 5,
   "metadata": {
    "collapsed": false
   },
   "outputs": [
    {
     "name": "stdout",
     "output_type": "stream",
     "text": [
      "In\tOut\n",
      "--\t---\n",
      "123abc \t 6\n",
      "abc \t 0\n",
      " \t 0\n",
      "x23 4 \t 9\n",
      "2 \t 2\n",
      "(1, 2) \t 3\n",
      "{'key': 12} \t 3\n"
     ]
    }
   ],
   "source": [
    "def sumDigits(s):\n",
    "    \"\"\"Assumes s is a string.\n",
    "       Returns the sum of all decimal digits in s.\n",
    "       E.g.: sumDigits('d4e7f') returns 11\"\"\"\n",
    "    total = 0\n",
    "    try:        # Try to turn s into a string. This try-block isn't strictly\n",
    "                #  necessary per the function spec.\n",
    "        s = str(s)\n",
    "    except:     # If we can't make input a string, bail out\n",
    "        raise TypeError(\"Input could not be converted to string\")\n",
    "    for c in s: # Loop over characters in s\n",
    "        try:    # Is this a digit? If so, add to total\n",
    "            x = int(c)\n",
    "            total += x\n",
    "        except: # If not a digit, do nothing\n",
    "            pass\n",
    "    return total\n",
    "    \n",
    "test = ['123abc', 'abc', '', 'x23 4', 2, (1, 2), {'key':12}]\n",
    "print(\"In\\tOut\\n--\\t---\") # Print a header. '\\t' = tab; '\\n' = newline\n",
    "for i in test:\n",
    "    print(i, \"\\t\", sumDigits(i))"
   ]
  },
  {
   "cell_type": "markdown",
   "metadata": {},
   "source": [
    "### 7.2 (88): Exception for flow control\n",
    "\n",
    "Write `findAnEven(l)` to return first even number in list `l`."
   ]
  },
  {
   "cell_type": "code",
   "execution_count": 2,
   "metadata": {
    "collapsed": false
   },
   "outputs": [
    {
     "name": "stdout",
     "output_type": "stream",
     "text": [
      "[1, 8, 10, 11] 8\n",
      "[2, 4] 2\n",
      "Input does not contain any even number\n"
     ]
    }
   ],
   "source": [
    "def findAnEven(l):\n",
    "    \"\"\"Assumes l is a list of integers.\n",
    "        Returns the first even number in l.\n",
    "        Raises ValueError if l contains no even number.\"\"\"\n",
    "    for i in l:\n",
    "        try:\n",
    "            if i%2 == 0:\n",
    "                return i\n",
    "        except:\n",
    "            pass\n",
    "    raise ValueError(\"Input does not contain any even number\")\n",
    "\n",
    "test = [[1,8,10,11], [2,4], [3]]\n",
    "for i in test:\n",
    "    try:\n",
    "        print(i, findAnEven(i))\n",
    "    except ValueError as msg:\n",
    "        print(msg)"
   ]
  },
  {
   "cell_type": "code",
   "execution_count": null,
   "metadata": {
    "collapsed": true
   },
   "outputs": [],
   "source": []
  }
 ],
 "metadata": {
  "kernelspec": {
   "display_name": "Python 3",
   "language": "python",
   "name": "python3"
  },
  "language_info": {
   "codemirror_mode": {
    "name": "ipython",
    "version": 3
   },
   "file_extension": ".py",
   "mimetype": "text/x-python",
   "name": "python",
   "nbconvert_exporter": "python",
   "pygments_lexer": "ipython3",
   "version": "3.4.3"
  }
 },
 "nbformat": 4,
 "nbformat_minor": 0
}
