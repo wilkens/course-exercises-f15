{
 "cells": [
  {
   "cell_type": "markdown",
   "metadata": {},
   "source": [
    "# Finger exercises in Guttag\n",
    "## Chapters 1-4\n",
    "### Section 2.2 (p. 16): Basic branching\n",
    "Find the largest odd number among three integers"
   ]
  },
  {
   "cell_type": "code",
   "execution_count": 7,
   "metadata": {
    "collapsed": false
   },
   "outputs": [
    {
     "name": "stdout",
     "output_type": "stream",
     "text": [
      "9\n"
     ]
    }
   ],
   "source": [
    "\"\"\"\n",
    "    For [x,y,z], find largest odd number\n",
    "    Assumed: x, y, and z are positive integers\n",
    "\"\"\"\n",
    "# Declare our variables\n",
    "x = 9\n",
    "y = 8\n",
    "z = 9\n",
    "\n",
    "# Find the odd members\n",
    "#  Note: really want a for loop here ...\n",
    "if x%2 == 0: # Test for evenness; set evens to zero\n",
    "    x = 0\n",
    "if y%2 == 0:\n",
    "    y = 0\n",
    "if z%2 == 0:\n",
    "    z = 0\n",
    "\n",
    "# Find largest odd number\n",
    "if x > y:\n",
    "    if x > z:\n",
    "        print(x)\n",
    "    else:\n",
    "        print(z)\n",
    "else:\n",
    "    if y > z:\n",
    "        print(y)\n",
    "    else:\n",
    "        if z > 0:\n",
    "            print(z)\n",
    "        else:\n",
    "            print(\"No odd numbers\")"
   ]
  },
  {
   "cell_type": "code",
   "execution_count": 8,
   "metadata": {
    "collapsed": false
   },
   "outputs": [
    {
     "name": "stdout",
     "output_type": "stream",
     "text": [
      "9\n"
     ]
    }
   ],
   "source": [
    "# Version with for loop\n",
    "largest = 0\n",
    "for i in [x,y,z]:\n",
    "    if i%2 and i > largest:\n",
    "        largest = i\n",
    "if largest:\n",
    "    print(largest)\n",
    "else:\n",
    "    print(\"No odd numbers\")"
   ]
  },
  {
   "cell_type": "markdown",
   "metadata": {},
   "source": [
    "### 2.4 (20): Iteration, user input\n",
    "Get ten integers from the user. Find largest odd among them."
   ]
  },
  {
   "cell_type": "code",
   "execution_count": 4,
   "metadata": {
    "collapsed": false
   },
   "outputs": [
    {
     "name": "stdout",
     "output_type": "stream",
     "text": [
      "10 iterations left\n",
      "Enter an integer: 3\n",
      "9 iterations left\n",
      "Enter an integer: 4\n",
      "8 iterations left\n",
      "Enter an integer: 5\n",
      "7 iterations left\n",
      "Enter an integer: 1\n",
      "6 iterations left\n",
      "Enter an integer: -99\n",
      "5 iterations left\n",
      "Enter an integer: -5\n",
      "4 iterations left\n",
      "Enter an integer: 7\n",
      "3 iterations left\n",
      "Enter an integer: 457\n",
      "2 iterations left\n",
      "Enter an integer: 3\n",
      "1 iterations left\n",
      "Enter an integer: 0\n",
      "Largest odd number is 457\n"
     ]
    }
   ],
   "source": [
    "# Set control variables\n",
    "largest = 0\n",
    "iters = 10\n",
    "while (iters != 0):\n",
    "    print(iters, \"iterations left\")      # Keep the user informed\n",
    "    x = int(input(\"Enter an integer: \")) # Get user input; note attempt to coerce to int\n",
    "    if x%2 == 1:                         # Odd?\n",
    "        if x > largest:                  # If so, biggest yet? \n",
    "            largest = x\n",
    "    iters -= 1\n",
    "if largest == 0:\n",
    "    print(\"No odd numbers\")\n",
    "else:\n",
    "    print(\"Largest odd number is\", largest)\n"
   ]
  },
  {
   "cell_type": "markdown",
   "metadata": {},
   "source": [
    "### 3.1 (23): Exhaustive enumeration\n",
    "Get an integer from the user. Find two ints such that `root**pwr = input`. Constrain 1 < pwr < 6 (i.e., `pwr` = 2, 3 , 4, or 5).\n",
    "\n",
    "**Note** that the text calls for powers from 1 through 5, which produces a trivial answer."
   ]
  },
  {
   "cell_type": "code",
   "execution_count": 7,
   "metadata": {
    "collapsed": false
   },
   "outputs": [
    {
     "name": "stdout",
     "output_type": "stream",
     "text": [
      "Enter a positive integer: 53\n",
      "Cannot find answer with root < 53 and pwr < 6\n"
     ]
    }
   ],
   "source": [
    "# Control variables\n",
    "success = False\n",
    "root = 0\n",
    "pwr = 2\n",
    "value = int(input(\"Enter a positive integer: \"))\n",
    "\n",
    "while pwr < 6: # Looping over powers; examine lowest powers first\n",
    "    while root <= value:\n",
    "        # Note 'and' test below; only generate *one* solution\n",
    "        if root**pwr == value and success == False:\n",
    "            print(root, \"**\", pwr, \"=\", value)\n",
    "            success = True\n",
    "        root += 1\n",
    "    root = 0\n",
    "    pwr += 1\n",
    "if success == False:\n",
    "    print(\"Cannot find answer with root <\", value, \"and pwr < 6\")\n"
   ]
  },
  {
   "cell_type": "markdown",
   "metadata": {},
   "source": [
    "### 3.2 (25): For loops\n",
    "\n",
    "Parse a string of comma separated floats. Print sum of input floats.\n",
    "\n",
    "The key insight here is that you can iterate over the characters of a string. The text doesn't introduce this concept, but it's a straightforward extension of iteration over ranges, lists, etc. Still, it's is a tricky problem for most newcomers!"
   ]
  },
  {
   "cell_type": "code",
   "execution_count": 9,
   "metadata": {
    "collapsed": false
   },
   "outputs": [
    {
     "name": "stdout",
     "output_type": "stream",
     "text": [
      "76.6399994\n"
     ]
    }
   ],
   "source": [
    "total = 0.0 # Running sum\n",
    "temp = ''   # Current float\n",
    "s = '1.2399994,2.4,71.0000,2'  # Input string\n",
    "for i in s:\n",
    "    if i == ',':               # If reached a separator, perform add\n",
    "        total += float(temp)   # Note cast from string to float\n",
    "        temp = ''\n",
    "    else:\n",
    "        temp += i\n",
    "total += float(temp) # Add the last float\n",
    "print(total)"
   ]
  },
  {
   "cell_type": "markdown",
   "metadata": {},
   "source": [
    "### 3.3 (28-29): Bisection search\n",
    "Change the code in Fig. 3.4 to handle cube roots of pos. and neg. ints. As originally written, code will loop forever on negative ints."
   ]
  },
  {
   "cell_type": "code",
   "execution_count": 15,
   "metadata": {
    "collapsed": false
   },
   "outputs": [
    {
     "name": "stdout",
     "output_type": "stream",
     "text": [
      "low = -25 high = 0.0 ans = -12.5\n",
      "low = -12.5 high = 0.0 ans = -6.25\n",
      "low = -6.25 high = 0.0 ans = -3.125\n",
      "low = -3.125 high = 0.0 ans = -1.5625\n",
      "low = -3.125 high = -1.5625 ans = -2.34375\n",
      "low = -3.125 high = -2.34375 ans = -2.734375\n",
      "low = -3.125 high = -2.734375 ans = -2.9296875\n",
      "low = -2.9296875 high = -2.734375 ans = -2.83203125\n",
      "low = -2.9296875 high = -2.83203125 ans = -2.880859375\n",
      "low = -2.9296875 high = -2.880859375 ans = -2.9052734375\n",
      "low = -2.9296875 high = -2.9052734375 ans = -2.91748046875\n",
      "low = -2.9296875 high = -2.91748046875 ans = -2.923583984375\n",
      "low = -2.9296875 high = -2.923583984375 ans = -2.9266357421875\n",
      "low = -2.9266357421875 high = -2.923583984375 ans = -2.92510986328125\n",
      "numGuesses = 14\n",
      "-2.924346923828125 is close to the cube root of -25\n"
     ]
    }
   ],
   "source": [
    "x = -25\n",
    "epsilon = 0.01\n",
    "numGuesses = 0\n",
    "low = min(0.0,x) # <-- changed from 'low = 0'\n",
    "high = max(0.0,x)\n",
    "ans = (high + low)/2.0\n",
    "while abs(ans**3 - x) >= epsilon:\n",
    "    print('low =', low, 'high =', high, 'ans =', ans)\n",
    "    numGuesses += 1\n",
    "    if ans**3 < x:\n",
    "        low = ans\n",
    "    else:\n",
    "        high = ans\n",
    "    ans = (high + low)/2.0\n",
    "print('numGuesses =', numGuesses)\n",
    "print(ans, 'is close to the cube root of', x)"
   ]
  },
  {
   "cell_type": "markdown",
   "metadata": {},
   "source": [
    "### 3.4 (29): Binary numbers\n",
    "`'10011' = 16*1 + 8*0 + 4*0 + 2*1 + 1*1 = 19`\n",
    "\n",
    "### 3.5 (33): Newton-Raphson vs. bisection search efficiency\n",
    "\n",
    "Compare efficiency of these methods in finding square roots. This is all as in the supplied code, except for tracking the iterations.\n"
   ]
  },
  {
   "cell_type": "code",
   "execution_count": 10,
   "metadata": {
    "collapsed": false
   },
   "outputs": [
    {
     "name": "stdout",
     "output_type": "stream",
     "text": [
      "Find the square root of 256 +/- 0.001\n",
      "Bisection root:      16.0 \t[ 3 iterations ]\n",
      "Newton-Raphson root: 16.000003310579185 \t[ 6 iterations ]\n",
      "Newton-Raphson is 0.5 times more efficient\n"
     ]
    }
   ],
   "source": [
    "k = 256          # Num of which to find sqrt\n",
    "epsilon = 0.001 # Tolerance for solution \n",
    "print(\"Find the square root of\", k, \"+/-\", epsilon)\n",
    "\n",
    "# Bisection search (see Fig. 3.4)\n",
    "bisec = 0       # Count bisection iterations\n",
    "low = 0.0\n",
    "high = max(0.0,k)\n",
    "guess = (high + low)/2.0\n",
    "while abs(guess**2 - k) >= epsilon:\n",
    "    bisec += 1\n",
    "    if guess**2 < k:\n",
    "        low = guess\n",
    "    else:\n",
    "        high = guess\n",
    "    guess = (high + low)/2.0\n",
    "print(\"Bisection root:     \", guess, \"\\t[\", bisec, \"iterations ]\")\n",
    "\n",
    "# Newton-Raphson method (see Fig 3.5)\n",
    "guess = k/2.0 # Initial guess\n",
    "newton = 0     # Count iterations\n",
    "while abs(guess**2 - k) >= epsilon:\n",
    "    guess = guess - (((guess**2) - k)/(2*guess))\n",
    "    newton += 1\n",
    "print(\"Newton-Raphson root:\", guess, \"\\t[\", newton, \"iterations ]\")\n",
    "print(\"Newton-Raphson is\", float(bisec)/float(newton), \"times more efficient\")\n"
   ]
  },
  {
   "cell_type": "markdown",
   "metadata": {},
   "source": [
    "### 4.1.1 (36): Function definition\n",
    "Write a function to compare two strings, return `True` if one occurs in the other, else `False`."
   ]
  },
  {
   "cell_type": "code",
   "execution_count": 17,
   "metadata": {
    "collapsed": false
   },
   "outputs": [
    {
     "name": "stdout",
     "output_type": "stream",
     "text": [
      "True\n",
      "True\n",
      "False\n"
     ]
    }
   ],
   "source": [
    "def isIn(x,y):\n",
    "    if x in y:\n",
    "        return True\n",
    "    elif y in x:\n",
    "        return True\n",
    "    else:\n",
    "        return False\n",
    "\n",
    "# Test isIn()\n",
    "print(isIn('cat', 'concatenate'))\n",
    "print(isIn('concatenate', 'cat'))\n",
    "print(isIn('cat', 'dog'))"
   ]
  },
  {
   "cell_type": "markdown",
   "metadata": {},
   "source": [
    "### 4.3.1 (47): Recursion, Fibonacci numbers\n",
    "How many times does the code below compute `fib(2)` in computing `fib(5)`?\n",
    "\n",
    "**Answer**: 3 times. `fib(4)` results in two calculations of `fib(2)` (one directly, one via `fib(3)`) and `fib(3)` results in one more. Examine a tree diagram of execution to verify:\n",
    "\n",
    "![Fibonnaci execution diagram](http://www.python-course.eu/images/fib_calculation_tree.png)\n",
    "\n",
    "[Source](http://www.python-course.eu/python3_recursive_functions.php)"
   ]
  },
  {
   "cell_type": "code",
   "execution_count": 38,
   "metadata": {
    "collapsed": false
   },
   "outputs": [
    {
     "name": "stdout",
     "output_type": "stream",
     "text": [
      "fib of 0 = 1\n",
      "*****\n",
      "fib of 1 = 1\n",
      "*****\n",
      "  -Calculating fib(2)\n",
      "fib of 2 = 2\n",
      "*****\n",
      "  -Calculating fib(2)\n",
      "fib of 3 = 3\n",
      "*****\n",
      "  -Calculating fib(2)\n",
      "  -Calculating fib(2)\n",
      "fib of 4 = 5\n",
      "*****\n",
      "  -Calculating fib(2)\n",
      "  -Calculating fib(2)\n",
      "  -Calculating fib(2)\n",
      "fib of 5 = 8\n",
      "*****\n"
     ]
    }
   ],
   "source": [
    "def fib(n):\n",
    "    \"\"\" See Fig. 4.7\n",
    "        Assumes n an int >= 0\n",
    "        Returns Fibonacci of n \"\"\"\n",
    "    if n == 0 or n == 1:\n",
    "        return 1\n",
    "    elif n == 2:\n",
    "        print(\"  -Calculating fib(2)\")\n",
    "        return fib(1) + fib(0)\n",
    "    else:\n",
    "        return fib(n-1) + fib(n-2)\n",
    "\n",
    "def testFib(n):\n",
    "    for i in range(n+1):\n",
    "        print(\"fib of\", i, \"=\", fib(i))\n",
    "        print(\"*****\")\n",
    "        \n",
    "testFib(5)"
   ]
  },
  {
   "cell_type": "code",
   "execution_count": null,
   "metadata": {
    "collapsed": true
   },
   "outputs": [],
   "source": []
  }
 ],
 "metadata": {
  "kernelspec": {
   "display_name": "Python 3",
   "language": "python",
   "name": "python3"
  },
  "language_info": {
   "codemirror_mode": {
    "name": "ipython",
    "version": 3
   },
   "file_extension": ".py",
   "mimetype": "text/x-python",
   "name": "python",
   "nbconvert_exporter": "python",
   "pygments_lexer": "ipython3",
   "version": "3.4.3"
  }
 },
 "nbformat": 4,
 "nbformat_minor": 0
}
