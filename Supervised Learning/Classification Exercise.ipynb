{
 "cells": [
  {
   "cell_type": "markdown",
   "metadata": {},
   "source": [
    "# Classifying Philosophical Texts"
   ]
  },
  {
   "cell_type": "markdown",
   "metadata": {},
   "source": [
    "Here, we put the classifier developed and evaluated in Stéfan Sinclair's notebook to work ..."
   ]
  },
  {
   "cell_type": "code",
   "execution_count": 7,
   "metadata": {
    "collapsed": false
   },
   "outputs": [
    {
     "name": "stdout",
     "output_type": "stream",
     "text": [
      "Number of (filtered) training files: 38\n"
     ]
    }
   ],
   "source": [
    "import nltk\n",
    "from sklearn.feature_extraction.text import TfidfVectorizer\n",
    "from sklearn.naive_bayes import MultinomialNB\n",
    "\n",
    "# Import the training corpus (while filtering out philosohpical ouliers)\n",
    "data_dir = \"texts\"\n",
    "corpus = nltk.corpus.reader.plaintext.PlaintextCorpusReader(data_dir, \".*\\.txt\")\n",
    "filtered_fileids = [fileid for fileid in corpus.fileids() if \"GameofLogic\" not in fileid and \"ThusSpakeZarathustr\" not in fileid]\n",
    "print('Number of (filtered) training files:', len(filtered_fileids))"
   ]
  },
  {
   "cell_type": "code",
   "execution_count": null,
   "metadata": {
    "collapsed": true
   },
   "outputs": [],
   "source": [
    "# Create relative frequency vectorizer and vectorize training corpus\n",
    "vectorizer = TfidfVectorizer(use_idf=False, stop_words=nltk.corpus.stopwords.words(\"english\"), max_features=10000)\n",
    "X_train = vectorizer.fit_transform([corpus.raw(fileid) for fileid in filtered_fileids])\n",
    "categories = [\"Philosophy\" if \"Philosophy\" in fileid else \"Other\" for fileid in filtered_fileids]"
   ]
  },
  {
   "cell_type": "code",
   "execution_count": 31,
   "metadata": {
    "collapsed": false
   },
   "outputs": [
    {
     "name": "stdout",
     "output_type": "stream",
     "text": [
      "Shape of the training matrix: (38, 10000)\n"
     ]
    }
   ],
   "source": [
    "# What does the training matrix look like?\n",
    "print('Shape of the training matrix:', X_train.shape)"
   ]
  },
  {
   "cell_type": "code",
   "execution_count": 15,
   "metadata": {
    "collapsed": false
   },
   "outputs": [
    {
     "data": {
      "text/plain": [
       "MultinomialNB(alpha=0.01, class_prior=None, fit_prior=True)"
      ]
     },
     "execution_count": 15,
     "metadata": {},
     "output_type": "execute_result"
    }
   ],
   "source": [
    "# Create and fit a multinomial NB classiier\n",
    "clf = MultinomialNB(alpha=.01)\n",
    "clf.fit(X_train, categories)"
   ]
  },
  {
   "cell_type": "code",
   "execution_count": 10,
   "metadata": {
    "collapsed": false
   },
   "outputs": [
    {
     "name": "stdout",
     "output_type": "stream",
     "text": [
      "Shape of the test corpus: (7, 10000)\n"
     ]
    }
   ],
   "source": [
    "# Read in test corpus and vectorize\n",
    "test_dir = \"test\"\n",
    "test_corpus = nltk.corpus.reader.plaintext.PlaintextCorpusReader(test_dir, \".*\\.txt\")\n",
    "test_fileids = [fileid for fileid in test_corpus.fileids()]\n",
    "test_categories = [\"Philosophy\" if \"Philosophy\" in fileid else \"Other\" for fileid in test_fileids]\n",
    "\n",
    "X_test = vectorizer.transform([test_corpus.raw(fileid) for fileid in test_fileids])\n",
    "print(\"Shape of the test corpus:\", X_test.shape)"
   ]
  },
  {
   "cell_type": "code",
   "execution_count": 11,
   "metadata": {
    "collapsed": false
   },
   "outputs": [],
   "source": [
    "# now we should be able to predict new instances given a frequencies vector\n",
    "pred = clf.predict(X_test)"
   ]
  },
  {
   "cell_type": "code",
   "execution_count": 12,
   "metadata": {
    "collapsed": false
   },
   "outputs": [
    {
     "name": "stdout",
     "output_type": "stream",
     "text": [
      "Other-MobyDick-Melville.txt\n",
      "\t Other\n",
      "Other-RobinsonCrusoe-Defoe.txt\n",
      "\t Other\n",
      "Philosophy-CommunistManifesto-Marx.txt\n",
      "\t Philosophy\n",
      "Philosophy-GameofLogic-Carroll.txt\n",
      "  ### ERROR ###\n",
      "  Actual:    Philosophy\n",
      "  Predicted: Other\n",
      "Philosophy-ImprovementUnderstanding-Spinoza.txt\n",
      "\t Philosophy\n",
      "Philosophy-TreatiseHumanKnowledge-Berkeley.txt\n",
      "\t Philosophy\n",
      "Philosophy-Zarathustra-Nietzsche.txt\n",
      "  ### ERROR ###\n",
      "  Actual:    Philosophy\n",
      "  Predicted: Other\n",
      "\n",
      "*** Accuracy ***: 0.714\n"
     ]
    }
   ],
   "source": [
    "# Check and print the results\n",
    "# Loop over test fileids, compare to predicted result\n",
    "for i in range(len(test_fileids)):\n",
    "    print(test_fileids[i]) \n",
    "    if test_categories[i] == pred[i]:\n",
    "        print('\\t', test_categories[i])\n",
    "    else:\n",
    "        print('  ### ERROR ###')\n",
    "        print('  Actual:   ', test_categories[i])\n",
    "        print('  Predicted:', pred[i])\n",
    "\n",
    "print('\\n*** Accuracy ***:', round(clf.score(X_test, test_categories),3))"
   ]
  },
  {
   "cell_type": "markdown",
   "metadata": {},
   "source": [
    "## Getting probabilities\n",
    "\n",
    "The code above returns just the binary classification. It would be nice to see how confident the classifier is about its decisions. For that, we use the `predict_proba()` method in place of `predict()`."
   ]
  },
  {
   "cell_type": "code",
   "execution_count": 13,
   "metadata": {
    "collapsed": false
   },
   "outputs": [
    {
     "name": "stdout",
     "output_type": "stream",
     "text": [
      "Other-MobyDick-Melville.txt\n",
      "   Actual:    Other\n",
      "   Predicted %:\n",
      "\tOther 100.0 \tPhil 0.0\n",
      "Other-RobinsonCrusoe-Defoe.txt\n",
      "   Actual:    Other\n",
      "   Predicted %:\n",
      "\tOther 100.0 \tPhil 0.0\n",
      "Philosophy-CommunistManifesto-Marx.txt\n",
      "   Actual:    Philosophy\n",
      "   Predicted %:\n",
      "\tOther 0.04 \tPhil 99.96\n",
      "Philosophy-GameofLogic-Carroll.txt\n",
      "   Actual:    Philosophy\n",
      "   Predicted %:\n",
      "\tOther 66.27 \tPhil 33.73\n",
      "Philosophy-ImprovementUnderstanding-Spinoza.txt\n",
      "   Actual:    Philosophy\n",
      "   Predicted %:\n",
      "\tOther 0.0 \tPhil 100.0\n",
      "Philosophy-TreatiseHumanKnowledge-Berkeley.txt\n",
      "   Actual:    Philosophy\n",
      "   Predicted %:\n",
      "\tOther 0.0 \tPhil 100.0\n",
      "Philosophy-Zarathustra-Nietzsche.txt\n",
      "   Actual:    Philosophy\n",
      "   Predicted %:\n",
      "\tOther 99.46 \tPhil 0.54\n"
     ]
    }
   ],
   "source": [
    "prob = clf.predict_proba(X_test)\n",
    "for i in range(len(test_fileids)):\n",
    "    print(test_fileids[i])\n",
    "    print('   Actual:   ', test_categories[i])\n",
    "    print('   Predicted %:\\n\\tOther', round(prob[i][0]*100, 2), '\\tPhil', round(prob[i][1]*100, 2))"
   ]
  },
  {
   "cell_type": "code",
   "execution_count": null,
   "metadata": {
    "collapsed": true
   },
   "outputs": [],
   "source": []
  }
 ],
 "metadata": {
  "kernelspec": {
   "display_name": "Python 3",
   "language": "python",
   "name": "python3"
  },
  "language_info": {
   "codemirror_mode": {
    "name": "ipython",
    "version": 3
   },
   "file_extension": ".py",
   "mimetype": "text/x-python",
   "name": "python",
   "nbconvert_exporter": "python",
   "pygments_lexer": "ipython3",
   "version": "3.4.3"
  }
 },
 "nbformat": 4,
 "nbformat_minor": 0
}
